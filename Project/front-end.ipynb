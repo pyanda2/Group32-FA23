{
 "cells": [
  {
   "cell_type": "code",
   "execution_count": 88,
   "id": "68442448-8a82-4edb-bf49-e54411eac180",
   "metadata": {},
   "outputs": [
    {
     "name": "stdout",
     "output_type": "stream",
     "text": [
      "Running on local URL:  http://127.0.0.1:7912\n",
      "\n",
      "To create a public link, set `share=True` in `launch()`.\n"
     ]
    },
    {
     "data": {
      "text/html": [
       "<div><iframe src=\"http://127.0.0.1:7912/\" width=\"100%\" height=\"500\" allow=\"autoplay; camera; microphone; clipboard-read; clipboard-write;\" frameborder=\"0\" allowfullscreen></iframe></div>"
      ],
      "text/plain": [
       "<IPython.core.display.HTML object>"
      ]
     },
     "metadata": {},
     "output_type": "display_data"
    },
    {
     "data": {
      "text/plain": []
     },
     "execution_count": 88,
     "metadata": {},
     "output_type": "execute_result"
    }
   ],
   "source": [
    "# import gradio as gr\n",
    "\n",
    "# def greet(name):\n",
    "#     return \"Hello \" + name + \"!\"\n",
    "\n",
    "# with gr.Blocks(theme=gr.themes.Soft()) as demo:\n",
    "#     with gr.Row():\n",
    "#         learning_btn = gr.Button(\"Learning Mode\")\n",
    "#         learning_btn.click(inputs=learning_btn, outputs=gr.Image())\n",
    "#         hello_btn = gr.Button(\"Game Mode\")\n",
    "    \n",
    "# demo.launch()\n",
    "\n",
    "import gradio as gr\n",
    "import random\n",
    "\n",
    "dict_signs = {\n",
    "    \"A\": \"https://www.signingsavvy.com/images/words/alphabet/2/a1.jpg\",\n",
    "    \"D\": \"https://www.signingsavvy.com/images/words/alphabet/2/d1.jpg\",\n",
    "    \"F\": \"https://www.signingsavvy.com/images/words/alphabet/2/f1.jpg\",\n",
    "    \"H\": \"https://media.istockphoto.com/id/1182201671/photo/finger-spelling-letter-h-in-asl-on-white-background-american-sign-language-concept.jpg?s=612x612&w=0&k=20&c=CIDY8_ZSabu0Q7mWkOK0G4lDaJ_KLPfpJXhSKFBxzP0=\",\n",
    "}\n",
    "dict_keys = list(dict_signs)\n",
    "chosen_sign = random.choice(dict_keys)\n",
    "\n",
    "def check(answer):\n",
    "    if (chosen_sign == answer):\n",
    "        return \"Correct answer!\"\n",
    "    else:\n",
    "        return \"Sorry, try again :(\"\n",
    "\n",
    "def new_sign():\n",
    "    chosen_sign = random.choice(dict_keys)\n",
    "\n",
    "with gr.Blocks(theme=gr.themes.Soft(), css=\".output-image, .input-image, .image-preview {height: 50px !important}\") as demo:\n",
    "    with gr.Tabs() as tabs:\n",
    "        with gr.TabItem(\"Learning Mode\", id=0):\n",
    "            with gr.Row():\n",
    "                image = gr.Image(dict_signs[chosen_sign])\n",
    "                iface2 = gr.Interface(\n",
    "                    fn=check,\n",
    "                    inputs=[\n",
    "                        gr.Dropdown(choices=dict_keys, label=\"Pick the signed letter\"),\n",
    "                    ],\n",
    "                    outputs= [\n",
    "                        gr.Textbox(label=\"Result\")\n",
    "                    ],\n",
    "                    allow_flagging=\"never\",\n",
    "                    live=True\n",
    "                )\n",
    "        with gr.TabItem(\"Game Mode\", id=1):\n",
    "            gr.Image()\n",
    "\n",
    "# Run the interface\n",
    "demo.launch()"
   ]
  },
  {
   "cell_type": "code",
   "execution_count": null,
   "id": "d883c2b6-2e95-409d-8196-6e76bc678695",
   "metadata": {},
   "outputs": [],
   "source": []
  }
 ],
 "metadata": {
  "kernelspec": {
   "display_name": "Python 3 (ipykernel)",
   "language": "python",
   "name": "python3"
  },
  "language_info": {
   "codemirror_mode": {
    "name": "ipython",
    "version": 3
   },
   "file_extension": ".py",
   "mimetype": "text/x-python",
   "name": "python",
   "nbconvert_exporter": "python",
   "pygments_lexer": "ipython3",
   "version": "3.11.6"
  }
 },
 "nbformat": 4,
 "nbformat_minor": 5
}
