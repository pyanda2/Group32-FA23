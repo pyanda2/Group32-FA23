{
 "cells": [
  {
   "cell_type": "code",
   "execution_count": 48,
   "id": "6bf27df7",
   "metadata": {},
   "outputs": [
    {
     "name": "stdout",
     "output_type": "stream",
     "text": [
      "Running on local URL:  http://127.0.0.1:7909\n",
      "\n",
      "To create a public link, set `share=True` in `launch()`.\n"
     ]
    },
    {
     "data": {
      "text/html": [
       "<div><iframe src=\"http://127.0.0.1:7909/\" width=\"100%\" height=\"500\" allow=\"autoplay; camera; microphone; clipboard-read; clipboard-write;\" frameborder=\"0\" allowfullscreen></iframe></div>"
      ],
      "text/plain": [
       "<IPython.core.display.HTML object>"
      ]
     },
     "metadata": {},
     "output_type": "display_data"
    },
    {
     "data": {
      "text/plain": []
     },
     "execution_count": 48,
     "metadata": {},
     "output_type": "execute_result"
    },
    {
     "name": "stdout",
     "output_type": "stream",
     "text": [
      "1/1 [==============================] - 0s 467ms/step\n"
     ]
    }
   ],
   "source": [
    "import gradio as gr\n",
    "import mediapipe as mp\n",
    "import numpy as np\n",
    "import cv2\n",
    "import random\n",
    "import h5py\n",
    "import tensorflow as tf\n",
    "from keras.models import load_model\n",
    "\n",
    "weights_file = h5py.File('weights/smnist.h5', 'r')\n",
    "model = load_model(weights_file)\n",
    "\n",
    "phraseQuestions = [\n",
    "    \"What is the sign for 'Hello'?\",\n",
    "    \"Show the sign for 'Thank You'\",\n",
    "    \"Can you sign 'Happy'?\",\n",
    "    \"What is the sign for 'Sorry'?\",\n",
    "    \"Please sign 'Goodbye'\"\n",
    "]\n",
    "\n",
    "letterQuestions = [\n",
    "    \"What is the sign for 'A'?\",\n",
    "    #\"Show the sign for 'B'\",\n",
    "   #\"Can you sign 'C'?\",\n",
    "    #\"What is the sign for 'D'?\",\n",
    "    #\"Please sign 'E'\"\n",
    "]\n",
    "\n",
    "def segment(input_image, textbox):\n",
    "    mp_selfie = mp.solutions.selfie_segmentation\n",
    "\n",
    "    image_np = np.array(input_image)\n",
    "    resized_image = cv2.resize(image_np, (28, 28))\n",
    "\n",
    "    with mp_selfie.SelfieSegmentation(model_selection=0) as segmentation_model:\n",
    "        res = segmentation_model.process(resized_image)\n",
    "        mask = np.stack((res.segmentation_mask,) * 3, axis=-1) > 0.5\n",
    "        segmented_image = np.where(mask, resized_image, cv2.blur(resized_image, (40, 40)))\n",
    "\n",
    "        gray_image = cv2.cvtColor(segmented_image, cv2.COLOR_RGB2GRAY)\n",
    "        image = np.expand_dims(gray_image, axis=-1)\n",
    "        image = image / 255.0\n",
    "\n",
    "        predictions = model.predict(np.expand_dims(image, axis=0))\n",
    "        answer = textbox.split(' ')[-1].strip(\"'?\")\n",
    "        text_to_display = 'Correct' #if predictions == answer else 'Incorrect'\n",
    "\n",
    "        font = cv2.FONT_HERSHEY_SIMPLEX\n",
    "        font_scale = 1\n",
    "        color = (0, 255, 0) if text_to_display == 'Correct' else (0, 0, 255)\n",
    "        thickness = 2\n",
    "        textSize = cv2.getTextSize(text_to_display, font, font_scale, thickness)[0]\n",
    "\n",
    "        textX = (image.shape[1] - textSize[0]) // 2\n",
    "        textY = (image.shape[0] + textSize[1]) // 2\n",
    "\n",
    "\n",
    "        cv2.putText(segmented_image, text_to_display, (textX, textY), font, font_scale, color, thickness, cv2.LINE_AA)\n",
    "\n",
    "        return cv2.cvtColor(segmented_image, cv2.COLOR_BGR2RGB)\n",
    "\n",
    "def update_question():\n",
    "    return random.choice(letterQuestions)\n",
    "\n",
    "\n",
    "options = ['A', 'B', 'C']\n",
    "\n",
    "\n",
    "with gr.Blocks(theme=gr.themes.Soft()) as demo:\n",
    "    with gr.Tabs() as tabs:\n",
    "        with gr.TabItem(\"Learning Mode\", id=0):\n",
    "            text_options = gr.Dropdown(options, label=\"Signs to learn\")\n",
    "            with gr.Row():\n",
    "                t = gr.Textbox(\"The symbol for Happy Birthday is: \")\n",
    "                img = gr.Image()\n",
    "        with gr.TabItem(\"Game Mode\", id=1):\n",
    "            with gr.Row():\n",
    "                question_display = gr.Textbox(label=\"Current Question\", value=update_question(), interactive=False)\n",
    "                next_question_button = gr.Button(\"Next Question\")\n",
    "                next_question_button.click(fn=update_question, inputs=[], outputs=question_display)\n",
    "            with gr.Row():\n",
    "                webcam_input = gr.Image(label=\"Start signing\", shape=(640,480), source=\"webcam\", tool=\"select\", type=\"pil\")\n",
    "                output_image = gr.Image(label=\"You signed...\", shape=(640,480), type=\"pil\")\n",
    "                i = gr.Interface(fn=segment, inputs=[webcam_input, question_display], outputs=output_image, live=True)\n",
    "                #i.launch()\n",
    "            \n",
    "weights_file.close()\n",
    "demo.launch()"
   ]
  },
  {
   "cell_type": "code",
   "execution_count": null,
   "id": "048f5ba7",
   "metadata": {},
   "outputs": [],
   "source": []
  }
 ],
 "metadata": {
  "kernelspec": {
   "display_name": "Python 3 (ipykernel)",
   "language": "python",
   "name": "python3"
  },
  "language_info": {
   "codemirror_mode": {
    "name": "ipython",
    "version": 3
   },
   "file_extension": ".py",
   "mimetype": "text/x-python",
   "name": "python",
   "nbconvert_exporter": "python",
   "pygments_lexer": "ipython3",
   "version": "3.9.6"
  }
 },
 "nbformat": 4,
 "nbformat_minor": 5
}
