{
 "cells": [
  {
   "cell_type": "code",
   "execution_count": 2,
   "id": "6bf27df7",
   "metadata": {},
   "outputs": [
    {
     "name": "stderr",
     "output_type": "stream",
     "text": [
      "/var/folders/q2/b9j3mww10tg9l3lq7zbhnn0h0000gn/T/ipykernel_42264/340765079.py:46: GradioDeprecationWarning: Usage of gradio.inputs is deprecated, and will not be supported in the future, please import your component from gradio.components\n",
      "  webcam = gr.inputs.Image(shape=(640, 480), source=\"webcam\")\n",
      "/var/folders/q2/b9j3mww10tg9l3lq7zbhnn0h0000gn/T/ipykernel_42264/340765079.py:46: GradioDeprecationWarning: `optional` parameter is deprecated, and it has no effect\n",
      "  webcam = gr.inputs.Image(shape=(640, 480), source=\"webcam\")\n",
      "/var/folders/q2/b9j3mww10tg9l3lq7zbhnn0h0000gn/T/ipykernel_42264/340765079.py:47: GradioDeprecationWarning: Usage of gradio.outputs is deprecated, and will not be supported in the future, please import your components from gradio.components\n",
      "  output_image = gr.outputs.Image(type=\"pil\")\n",
      "/var/folders/q2/b9j3mww10tg9l3lq7zbhnn0h0000gn/T/ipykernel_42264/340765079.py:48: GradioDeprecationWarning: Usage of gradio.outputs is deprecated, and will not be supported in the future, please import your components from gradio.components\n",
      "  question_text = gr.outputs.Textbox(label=\"Question\")\n"
     ]
    },
    {
     "name": "stdout",
     "output_type": "stream",
     "text": [
      "Running on local URL:  http://127.0.0.1:7861\n",
      "\n",
      "To create a public link, set `share=True` in `launch()`.\n"
     ]
    },
    {
     "data": {
      "text/html": [
       "<div><iframe src=\"http://127.0.0.1:7861/\" width=\"100%\" height=\"500\" allow=\"autoplay; camera; microphone; clipboard-read; clipboard-write;\" frameborder=\"0\" allowfullscreen></iframe></div>"
      ],
      "text/plain": [
       "<IPython.core.display.HTML object>"
      ]
     },
     "metadata": {},
     "output_type": "display_data"
    },
    {
     "data": {
      "text/plain": []
     },
     "execution_count": 2,
     "metadata": {},
     "output_type": "execute_result"
    }
   ],
   "source": [
    "import gradio as gr\n",
    "import mediapipe as mp\n",
    "import numpy as np\n",
    "import cv2\n",
    "import random\n",
    "import pickle\n",
    "\n",
    "mp_selfie = mp.solutions.selfie_segmentation\n",
    "\n",
    "with open(\"smnist.h5\", \"rb\") as f:\n",
    "    model = pickle.load(f)\n",
    "\n",
    "questions = [\n",
    "    \"What is the sign for 'Hello'?\",\n",
    "    \"Show the sign for 'Thank You'\",\n",
    "    \"Can you sign 'Happy'?\",\n",
    "    \"What is the sign for 'Sorry'?\",\n",
    "    \"Please sign 'Goodbye'\"\n",
    "]\n",
    "\n",
    "def segment(image):\n",
    "    image = cv2.cvtColor(np.array(image), cv2.COLOR_RGB2BGR)\n",
    "\n",
    "    with mp_selfie.SelfieSegmentation(model_selection=0) as model:\n",
    "        res = model.process(image)\n",
    "        mask = np.stack((res.segmentation_mask,) * 3, axis=-1) > 0.5\n",
    "        segmented_image = np.where(mask, image, cv2.blur(image, (40, 40)))\n",
    "\n",
    "        text_to_display = random.choice(['Correct', 'Incorrect'])\n",
    "\n",
    "        font = cv2.FONT_HERSHEY_SIMPLEX\n",
    "        font_scale = 1\n",
    "        color = (0, 255, 0) if text_to_display == 'Correct' else (0, 0, 255)\n",
    "        thickness = 2\n",
    "        textSize = cv2.getTextSize(text_to_display, font, font_scale, thickness)[0]\n",
    "\n",
    "        textX = (image.shape[1] - textSize[0]) // 2\n",
    "        textY = (image.shape[0] + textSize[1]) // 2\n",
    "\n",
    "\n",
    "        cv2.putText(segmented_image, text_to_display, (textX, textY), font, font_scale, color, thickness, cv2.LINE_AA)\n",
    "\n",
    "        return cv2.cvtColor(segmented_image, cv2.COLOR_BGR2RGB)\n",
    "\n",
    "def update_question():\n",
    "    return random.choice(questions)\n",
    "\n",
    "\n",
    "webcam = gr.inputs.Image(shape=(640, 480), source=\"webcam\")\n",
    "output_image = gr.outputs.Image(type=\"pil\")\n",
    "question_text = gr.outputs.Textbox(label=\"Question\")\n",
    "\n",
    "\n",
    "options = ['Placeholder A', 'Placeholder B', 'Placeholder C']\n",
    "\n",
    "\n",
    "with gr.Blocks(theme=gr.themes.Soft()) as demo:\n",
    "    with gr.Tabs() as tabs:\n",
    "        with gr.TabItem(\"Learning Mode\", id=0):\n",
    "            text_options = gr.Dropdown(options, label=\"Signs to learn\")\n",
    "            with gr.Row():\n",
    "                t = gr.Textbox(\"The symbol for Happy Birthday is: \")\n",
    "                img = gr.Image()\n",
    "        with gr.TabItem(\"Game Mode\", id=1):\n",
    "            with gr.Row():\n",
    "                question_display = gr.Textbox(label=\"Current Question\", value=update_question(), interactive=False)\n",
    "                next_question_button = gr.Button(\"Next Question\")\n",
    "            with gr.Row():\n",
    "                webcam_input = gr.Image(source=\"webcam\", tool=\"select\", type=\"pil\")\n",
    "                i = gr.Interface(fn=segment, inputs=webcam_input, outputs=output_image, live=True)\n",
    "            next_question_button.click(fn=update_question, inputs=[], outputs=question_display)\n",
    "            \n",
    "\n",
    "demo.launch()"
   ]
  },
  {
   "cell_type": "code",
   "execution_count": null,
   "id": "048f5ba7",
   "metadata": {},
   "outputs": [],
   "source": []
  }
 ],
 "metadata": {
  "kernelspec": {
   "display_name": "Python 3 (ipykernel)",
   "language": "python",
   "name": "python3"
  },
  "language_info": {
   "codemirror_mode": {
    "name": "ipython",
    "version": 3
   },
   "file_extension": ".py",
   "mimetype": "text/x-python",
   "name": "python",
   "nbconvert_exporter": "python",
   "pygments_lexer": "ipython3",
   "version": "3.9.6"
  }
 },
 "nbformat": 4,
 "nbformat_minor": 5
}
