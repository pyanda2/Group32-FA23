{
 "cells": [
  {
   "cell_type": "code",
   "execution_count": 42,
   "id": "cda03e06",
   "metadata": {},
   "outputs": [
    {
     "name": "stdout",
     "output_type": "stream",
     "text": [
      "/Users/bilbaothanos14/.zshenv:export:1: not valid in this context: /Library/Java/JavaVirtualMachines/jdk-19.jdk/Contents/Home\n",
      "Requirement already satisfied: mediapipe in /Users/bilbaothanos14/miniforge3/lib/python3.9/site-packages (0.10.7)\n",
      "Requirement already satisfied: absl-py in /Users/bilbaothanos14/miniforge3/lib/python3.9/site-packages (from mediapipe) (1.0.0)\n",
      "Requirement already satisfied: attrs>=19.1.0 in /Users/bilbaothanos14/miniforge3/lib/python3.9/site-packages (from mediapipe) (21.4.0)\n",
      "Requirement already satisfied: flatbuffers>=2.0 in /Users/bilbaothanos14/miniforge3/lib/python3.9/site-packages (from mediapipe) (2.0)\n",
      "Requirement already satisfied: matplotlib in /Users/bilbaothanos14/miniforge3/lib/python3.9/site-packages (from mediapipe) (3.5.2)\n",
      "Requirement already satisfied: numpy in /Users/bilbaothanos14/miniforge3/lib/python3.9/site-packages (from mediapipe) (1.23.0)\n",
      "Requirement already satisfied: opencv-contrib-python in /Users/bilbaothanos14/miniforge3/lib/python3.9/site-packages (from mediapipe) (4.8.1.78)\n",
      "Requirement already satisfied: protobuf<4,>=3.11 in /Users/bilbaothanos14/miniforge3/lib/python3.9/site-packages (from mediapipe) (3.20.1)\n",
      "Requirement already satisfied: sounddevice>=0.4.4 in /Users/bilbaothanos14/miniforge3/lib/python3.9/site-packages (from mediapipe) (0.4.6)\n",
      "Requirement already satisfied: CFFI>=1.0 in /Users/bilbaothanos14/miniforge3/lib/python3.9/site-packages (from sounddevice>=0.4.4->mediapipe) (1.15.0)\n",
      "Requirement already satisfied: six in /Users/bilbaothanos14/miniforge3/lib/python3.9/site-packages (from absl-py->mediapipe) (1.15.0)\n",
      "Requirement already satisfied: cycler>=0.10 in /Users/bilbaothanos14/miniforge3/lib/python3.9/site-packages (from matplotlib->mediapipe) (0.11.0)\n",
      "Requirement already satisfied: fonttools>=4.22.0 in /Users/bilbaothanos14/miniforge3/lib/python3.9/site-packages (from matplotlib->mediapipe) (4.33.3)\n",
      "Requirement already satisfied: kiwisolver>=1.0.1 in /Users/bilbaothanos14/miniforge3/lib/python3.9/site-packages (from matplotlib->mediapipe) (1.4.3)\n",
      "Requirement already satisfied: packaging>=20.0 in /Users/bilbaothanos14/miniforge3/lib/python3.9/site-packages (from matplotlib->mediapipe) (21.3)\n",
      "Requirement already satisfied: pillow>=6.2.0 in /Users/bilbaothanos14/miniforge3/lib/python3.9/site-packages (from matplotlib->mediapipe) (9.1.1)\n",
      "Requirement already satisfied: pyparsing>=2.2.1 in /Users/bilbaothanos14/miniforge3/lib/python3.9/site-packages (from matplotlib->mediapipe) (3.0.9)\n",
      "Requirement already satisfied: python-dateutil>=2.7 in /Users/bilbaothanos14/miniforge3/lib/python3.9/site-packages (from matplotlib->mediapipe) (2.8.2)\n",
      "Requirement already satisfied: pycparser in /Users/bilbaothanos14/miniforge3/lib/python3.9/site-packages (from CFFI>=1.0->sounddevice>=0.4.4->mediapipe) (2.21)\n",
      "/Users/bilbaothanos14/.zshenv:export:1: not valid in this context: /Library/Java/JavaVirtualMachines/jdk-19.jdk/Contents/Home\n",
      "Requirement already satisfied: gradio in /Users/bilbaothanos14/miniforge3/lib/python3.9/site-packages (3.50.2)\n",
      "Requirement already satisfied: aiofiles<24.0,>=22.0 in /Users/bilbaothanos14/miniforge3/lib/python3.9/site-packages (from gradio) (23.2.1)\n",
      "Requirement already satisfied: altair<6.0,>=4.2.0 in /Users/bilbaothanos14/miniforge3/lib/python3.9/site-packages (from gradio) (4.2.0)\n",
      "Requirement already satisfied: fastapi in /Users/bilbaothanos14/miniforge3/lib/python3.9/site-packages (from gradio) (0.104.0)\n",
      "Requirement already satisfied: ffmpy in /Users/bilbaothanos14/miniforge3/lib/python3.9/site-packages (from gradio) (0.3.1)\n",
      "Requirement already satisfied: gradio-client==0.6.1 in /Users/bilbaothanos14/miniforge3/lib/python3.9/site-packages (from gradio) (0.6.1)\n",
      "Requirement already satisfied: httpx in /Users/bilbaothanos14/miniforge3/lib/python3.9/site-packages (from gradio) (0.25.0)\n",
      "Requirement already satisfied: huggingface-hub>=0.14.0 in /Users/bilbaothanos14/miniforge3/lib/python3.9/site-packages (from gradio) (0.18.0)\n",
      "Requirement already satisfied: importlib-resources<7.0,>=1.3 in /Users/bilbaothanos14/miniforge3/lib/python3.9/site-packages (from gradio) (6.1.0)\n",
      "Requirement already satisfied: jinja2<4.0 in /Users/bilbaothanos14/miniforge3/lib/python3.9/site-packages (from gradio) (3.1.2)\n",
      "Requirement already satisfied: markupsafe~=2.0 in /Users/bilbaothanos14/miniforge3/lib/python3.9/site-packages (from gradio) (2.1.1)\n",
      "Requirement already satisfied: matplotlib~=3.0 in /Users/bilbaothanos14/miniforge3/lib/python3.9/site-packages (from gradio) (3.5.2)\n",
      "Requirement already satisfied: numpy~=1.0 in /Users/bilbaothanos14/miniforge3/lib/python3.9/site-packages (from gradio) (1.23.0)\n",
      "Requirement already satisfied: orjson~=3.0 in /Users/bilbaothanos14/miniforge3/lib/python3.9/site-packages (from gradio) (3.9.10)\n",
      "Requirement already satisfied: packaging in /Users/bilbaothanos14/miniforge3/lib/python3.9/site-packages (from gradio) (21.3)\n",
      "Requirement already satisfied: pandas<3.0,>=1.0 in /Users/bilbaothanos14/miniforge3/lib/python3.9/site-packages (from gradio) (1.4.2)\n",
      "Requirement already satisfied: pillow<11.0,>=8.0 in /Users/bilbaothanos14/miniforge3/lib/python3.9/site-packages (from gradio) (9.1.1)\n",
      "Requirement already satisfied: pydantic!=1.8,!=1.8.1,!=2.0.0,!=2.0.1,<3.0.0,>=1.7.4 in /Users/bilbaothanos14/miniforge3/lib/python3.9/site-packages (from gradio) (2.4.2)\n",
      "Requirement already satisfied: pydub in /Users/bilbaothanos14/miniforge3/lib/python3.9/site-packages (from gradio) (0.25.1)\n",
      "Requirement already satisfied: python-multipart in /Users/bilbaothanos14/miniforge3/lib/python3.9/site-packages (from gradio) (0.0.6)\n",
      "Requirement already satisfied: pyyaml<7.0,>=5.0 in /Users/bilbaothanos14/miniforge3/lib/python3.9/site-packages (from gradio) (6.0.1)\n",
      "Requirement already satisfied: requests~=2.0 in /Users/bilbaothanos14/miniforge3/lib/python3.9/site-packages (from gradio) (2.27.1)\n",
      "Requirement already satisfied: semantic-version~=2.0 in /Users/bilbaothanos14/miniforge3/lib/python3.9/site-packages (from gradio) (2.10.0)\n",
      "Requirement already satisfied: typing-extensions~=4.0 in /Users/bilbaothanos14/miniforge3/lib/python3.9/site-packages (from gradio) (4.8.0)\n",
      "Requirement already satisfied: uvicorn>=0.14.0 in /Users/bilbaothanos14/miniforge3/lib/python3.9/site-packages (from gradio) (0.23.2)\n",
      "Requirement already satisfied: websockets<12.0,>=10.0 in /Users/bilbaothanos14/miniforge3/lib/python3.9/site-packages (from gradio) (11.0.3)\n",
      "Requirement already satisfied: fsspec in /Users/bilbaothanos14/miniforge3/lib/python3.9/site-packages (from gradio-client==0.6.1->gradio) (2023.10.0)\n",
      "Requirement already satisfied: entrypoints in /Users/bilbaothanos14/miniforge3/lib/python3.9/site-packages (from altair<6.0,>=4.2.0->gradio) (0.4)\n",
      "Requirement already satisfied: jsonschema>=3.0 in /Users/bilbaothanos14/miniforge3/lib/python3.9/site-packages (from altair<6.0,>=4.2.0->gradio) (4.5.1)\n",
      "Requirement already satisfied: toolz in /Users/bilbaothanos14/miniforge3/lib/python3.9/site-packages (from altair<6.0,>=4.2.0->gradio) (0.11.2)\n",
      "Requirement already satisfied: filelock in /Users/bilbaothanos14/miniforge3/lib/python3.9/site-packages (from huggingface-hub>=0.14.0->gradio) (3.13.0)\n",
      "Requirement already satisfied: tqdm>=4.42.1 in /Users/bilbaothanos14/miniforge3/lib/python3.9/site-packages (from huggingface-hub>=0.14.0->gradio) (4.63.0)\n",
      "Requirement already satisfied: zipp>=3.1.0 in /Users/bilbaothanos14/miniforge3/lib/python3.9/site-packages (from importlib-resources<7.0,>=1.3->gradio) (3.8.0)\n",
      "Requirement already satisfied: cycler>=0.10 in /Users/bilbaothanos14/miniforge3/lib/python3.9/site-packages (from matplotlib~=3.0->gradio) (0.11.0)\n",
      "Requirement already satisfied: fonttools>=4.22.0 in /Users/bilbaothanos14/miniforge3/lib/python3.9/site-packages (from matplotlib~=3.0->gradio) (4.33.3)\n",
      "Requirement already satisfied: kiwisolver>=1.0.1 in /Users/bilbaothanos14/miniforge3/lib/python3.9/site-packages (from matplotlib~=3.0->gradio) (1.4.3)\n",
      "Requirement already satisfied: pyparsing>=2.2.1 in /Users/bilbaothanos14/miniforge3/lib/python3.9/site-packages (from matplotlib~=3.0->gradio) (3.0.9)\n",
      "Requirement already satisfied: python-dateutil>=2.7 in /Users/bilbaothanos14/miniforge3/lib/python3.9/site-packages (from matplotlib~=3.0->gradio) (2.8.2)\n",
      "Requirement already satisfied: pytz>=2020.1 in /Users/bilbaothanos14/miniforge3/lib/python3.9/site-packages (from pandas<3.0,>=1.0->gradio) (2022.1)\n",
      "Requirement already satisfied: annotated-types>=0.4.0 in /Users/bilbaothanos14/miniforge3/lib/python3.9/site-packages (from pydantic!=1.8,!=1.8.1,!=2.0.0,!=2.0.1,<3.0.0,>=1.7.4->gradio) (0.6.0)\n",
      "Requirement already satisfied: pydantic-core==2.10.1 in /Users/bilbaothanos14/miniforge3/lib/python3.9/site-packages (from pydantic!=1.8,!=1.8.1,!=2.0.0,!=2.0.1,<3.0.0,>=1.7.4->gradio) (2.10.1)\n",
      "Requirement already satisfied: urllib3<1.27,>=1.21.1 in /Users/bilbaothanos14/miniforge3/lib/python3.9/site-packages (from requests~=2.0->gradio) (1.26.9)\n",
      "Requirement already satisfied: certifi>=2017.4.17 in /Users/bilbaothanos14/miniforge3/lib/python3.9/site-packages (from requests~=2.0->gradio) (2021.10.8)\n"
     ]
    },
    {
     "name": "stdout",
     "output_type": "stream",
     "text": [
      "Requirement already satisfied: charset-normalizer~=2.0.0 in /Users/bilbaothanos14/miniforge3/lib/python3.9/site-packages (from requests~=2.0->gradio) (2.0.12)\n",
      "Requirement already satisfied: idna<4,>=2.5 in /Users/bilbaothanos14/miniforge3/lib/python3.9/site-packages (from requests~=2.0->gradio) (3.3)\n",
      "Requirement already satisfied: click>=7.0 in /Users/bilbaothanos14/miniforge3/lib/python3.9/site-packages (from uvicorn>=0.14.0->gradio) (8.0.4)\n",
      "Requirement already satisfied: h11>=0.8 in /Users/bilbaothanos14/miniforge3/lib/python3.9/site-packages (from uvicorn>=0.14.0->gradio) (0.14.0)\n",
      "Requirement already satisfied: anyio<4.0.0,>=3.7.1 in /Users/bilbaothanos14/miniforge3/lib/python3.9/site-packages (from fastapi->gradio) (3.7.1)\n",
      "Requirement already satisfied: starlette<0.28.0,>=0.27.0 in /Users/bilbaothanos14/miniforge3/lib/python3.9/site-packages (from fastapi->gradio) (0.27.0)\n",
      "Requirement already satisfied: httpcore<0.19.0,>=0.18.0 in /Users/bilbaothanos14/miniforge3/lib/python3.9/site-packages (from httpx->gradio) (0.18.0)\n",
      "Requirement already satisfied: sniffio in /Users/bilbaothanos14/miniforge3/lib/python3.9/site-packages (from httpx->gradio) (1.3.0)\n",
      "Requirement already satisfied: exceptiongroup in /Users/bilbaothanos14/miniforge3/lib/python3.9/site-packages (from anyio<4.0.0,>=3.7.1->fastapi->gradio) (1.1.3)\n",
      "Requirement already satisfied: attrs>=17.4.0 in /Users/bilbaothanos14/miniforge3/lib/python3.9/site-packages (from jsonschema>=3.0->altair<6.0,>=4.2.0->gradio) (21.4.0)\n",
      "Requirement already satisfied: pyrsistent!=0.17.0,!=0.17.1,!=0.17.2,>=0.14.0 in /Users/bilbaothanos14/miniforge3/lib/python3.9/site-packages (from jsonschema>=3.0->altair<6.0,>=4.2.0->gradio) (0.18.1)\n",
      "Requirement already satisfied: six>=1.5 in /Users/bilbaothanos14/miniforge3/lib/python3.9/site-packages (from python-dateutil>=2.7->matplotlib~=3.0->gradio) (1.15.0)\n",
      "/Users/bilbaothanos14/.zshenv:export:1: not valid in this context: /Library/Java/JavaVirtualMachines/jdk-19.jdk/Contents/Home\n",
      "Requirement already satisfied: opencv-python in /Users/bilbaothanos14/miniforge3/lib/python3.9/site-packages (4.8.1.78)\n",
      "Requirement already satisfied: numpy>=1.21.0 in /Users/bilbaothanos14/miniforge3/lib/python3.9/site-packages (from opencv-python) (1.23.0)\n",
      "/Users/bilbaothanos14/.zshenv:export:1: not valid in this context: /Library/Java/JavaVirtualMachines/jdk-19.jdk/Contents/Home\n",
      "Requirement already satisfied: matplotlib in /Users/bilbaothanos14/miniforge3/lib/python3.9/site-packages (3.5.2)\n",
      "Requirement already satisfied: cycler>=0.10 in /Users/bilbaothanos14/miniforge3/lib/python3.9/site-packages (from matplotlib) (0.11.0)\n",
      "Requirement already satisfied: fonttools>=4.22.0 in /Users/bilbaothanos14/miniforge3/lib/python3.9/site-packages (from matplotlib) (4.33.3)\n",
      "Requirement already satisfied: kiwisolver>=1.0.1 in /Users/bilbaothanos14/miniforge3/lib/python3.9/site-packages (from matplotlib) (1.4.3)\n",
      "Requirement already satisfied: numpy>=1.17 in /Users/bilbaothanos14/miniforge3/lib/python3.9/site-packages (from matplotlib) (1.23.0)\n",
      "Requirement already satisfied: packaging>=20.0 in /Users/bilbaothanos14/miniforge3/lib/python3.9/site-packages (from matplotlib) (21.3)\n",
      "Requirement already satisfied: pillow>=6.2.0 in /Users/bilbaothanos14/miniforge3/lib/python3.9/site-packages (from matplotlib) (9.1.1)\n",
      "Requirement already satisfied: pyparsing>=2.2.1 in /Users/bilbaothanos14/miniforge3/lib/python3.9/site-packages (from matplotlib) (3.0.9)\n",
      "Requirement already satisfied: python-dateutil>=2.7 in /Users/bilbaothanos14/miniforge3/lib/python3.9/site-packages (from matplotlib) (2.8.2)\n",
      "Requirement already satisfied: six>=1.5 in /Users/bilbaothanos14/miniforge3/lib/python3.9/site-packages (from python-dateutil>=2.7->matplotlib) (1.15.0)\n"
     ]
    }
   ],
   "source": [
    "!pip install mediapipe\n",
    "!pip install gradio\n",
    "!pip install opencv-python\n",
    "!pip install matplotlib"
   ]
  },
  {
   "cell_type": "code",
   "execution_count": 41,
   "id": "6bf27df7",
   "metadata": {},
   "outputs": [
    {
     "name": "stderr",
     "output_type": "stream",
     "text": [
      "/var/folders/mf/ynycfx8d0fggrrcjj0y677dc0000gn/T/ipykernel_2047/3726164489.py:16: GradioDeprecationWarning: Usage of gradio.inputs is deprecated, and will not be supported in the future, please import your component from gradio.components\n",
      "  webcam = gr.inputs.Image(shape=(640, 480), source=\"webcam\")\n",
      "/var/folders/mf/ynycfx8d0fggrrcjj0y677dc0000gn/T/ipykernel_2047/3726164489.py:16: GradioDeprecationWarning: `optional` parameter is deprecated, and it has no effect\n",
      "  webcam = gr.inputs.Image(shape=(640, 480), source=\"webcam\")\n",
      "/var/folders/mf/ynycfx8d0fggrrcjj0y677dc0000gn/T/ipykernel_2047/3726164489.py:19: GradioDeprecationWarning: Usage of gradio.outputs is deprecated, and will not be supported in the future, please import your components from gradio.components\n",
      "  output_image = gr.outputs.Image(type=\"pil\")\n"
     ]
    },
    {
     "name": "stdout",
     "output_type": "stream",
     "text": [
      "Running on local URL:  http://127.0.0.1:7874\n",
      "\n",
      "To create a public link, set `share=True` in `launch()`.\n"
     ]
    },
    {
     "data": {
      "text/html": [
       "<div><iframe src=\"http://127.0.0.1:7874/\" width=\"100%\" height=\"500\" allow=\"autoplay; camera; microphone; clipboard-read; clipboard-write;\" frameborder=\"0\" allowfullscreen></iframe></div>"
      ],
      "text/plain": [
       "<IPython.core.display.HTML object>"
      ]
     },
     "metadata": {},
     "output_type": "display_data"
    },
    {
     "data": {
      "text/plain": []
     },
     "execution_count": 41,
     "metadata": {},
     "output_type": "execute_result"
    },
    {
     "name": "stderr",
     "output_type": "stream",
     "text": [
      "Traceback (most recent call last):\n",
      "  File \"/Users/bilbaothanos14/miniforge3/lib/python3.9/site-packages/gradio/routes.py\", line 534, in predict\n",
      "    output = await route_utils.call_process_api(\n",
      "  File \"/Users/bilbaothanos14/miniforge3/lib/python3.9/site-packages/gradio/route_utils.py\", line 226, in call_process_api\n",
      "    output = await app.get_blocks().process_api(\n",
      "  File \"/Users/bilbaothanos14/miniforge3/lib/python3.9/site-packages/gradio/blocks.py\", line 1550, in process_api\n",
      "    result = await self.call_function(\n",
      "  File \"/Users/bilbaothanos14/miniforge3/lib/python3.9/site-packages/gradio/blocks.py\", line 1185, in call_function\n",
      "    prediction = await anyio.to_thread.run_sync(\n",
      "  File \"/Users/bilbaothanos14/miniforge3/lib/python3.9/site-packages/anyio/to_thread.py\", line 33, in run_sync\n",
      "    return await get_asynclib().run_sync_in_worker_thread(\n",
      "  File \"/Users/bilbaothanos14/miniforge3/lib/python3.9/site-packages/anyio/_backends/_asyncio.py\", line 877, in run_sync_in_worker_thread\n",
      "    return await future\n",
      "  File \"/Users/bilbaothanos14/miniforge3/lib/python3.9/site-packages/anyio/_backends/_asyncio.py\", line 807, in run\n",
      "    result = context.run(func, *args)\n",
      "  File \"/Users/bilbaothanos14/miniforge3/lib/python3.9/site-packages/gradio/utils.py\", line 661, in wrapper\n",
      "    response = f(*args, **kwargs)\n",
      "  File \"/var/folders/mf/ynycfx8d0fggrrcjj0y677dc0000gn/T/ipykernel_2047/3726164489.py\", line 10, in segment\n",
      "    res = model.process(image)\n",
      "  File \"/Users/bilbaothanos14/miniforge3/lib/python3.9/site-packages/mediapipe/python/solutions/selfie_segmentation.py\", line 76, in process\n",
      "    return super().process(input_data={'image': image})\n",
      "  File \"/Users/bilbaothanos14/miniforge3/lib/python3.9/site-packages/mediapipe/python/solution_base.py\", line 360, in process\n",
      "    if data.shape[2] != RGB_CHANNELS:\n",
      "AttributeError: 'NoneType' object has no attribute 'shape'\n",
      "Traceback (most recent call last):\n",
      "  File \"/Users/bilbaothanos14/miniforge3/lib/python3.9/site-packages/gradio/routes.py\", line 534, in predict\n",
      "    output = await route_utils.call_process_api(\n",
      "  File \"/Users/bilbaothanos14/miniforge3/lib/python3.9/site-packages/gradio/route_utils.py\", line 226, in call_process_api\n",
      "    output = await app.get_blocks().process_api(\n",
      "  File \"/Users/bilbaothanos14/miniforge3/lib/python3.9/site-packages/gradio/blocks.py\", line 1550, in process_api\n",
      "    result = await self.call_function(\n",
      "  File \"/Users/bilbaothanos14/miniforge3/lib/python3.9/site-packages/gradio/blocks.py\", line 1185, in call_function\n",
      "    prediction = await anyio.to_thread.run_sync(\n",
      "  File \"/Users/bilbaothanos14/miniforge3/lib/python3.9/site-packages/anyio/to_thread.py\", line 33, in run_sync\n",
      "    return await get_asynclib().run_sync_in_worker_thread(\n",
      "  File \"/Users/bilbaothanos14/miniforge3/lib/python3.9/site-packages/anyio/_backends/_asyncio.py\", line 877, in run_sync_in_worker_thread\n",
      "    return await future\n",
      "  File \"/Users/bilbaothanos14/miniforge3/lib/python3.9/site-packages/anyio/_backends/_asyncio.py\", line 807, in run\n",
      "    result = context.run(func, *args)\n",
      "  File \"/Users/bilbaothanos14/miniforge3/lib/python3.9/site-packages/gradio/utils.py\", line 661, in wrapper\n",
      "    response = f(*args, **kwargs)\n",
      "  File \"/var/folders/mf/ynycfx8d0fggrrcjj0y677dc0000gn/T/ipykernel_2047/3726164489.py\", line 10, in segment\n",
      "    res = model.process(image)\n",
      "  File \"/Users/bilbaothanos14/miniforge3/lib/python3.9/site-packages/mediapipe/python/solutions/selfie_segmentation.py\", line 76, in process\n",
      "    return super().process(input_data={'image': image})\n",
      "  File \"/Users/bilbaothanos14/miniforge3/lib/python3.9/site-packages/mediapipe/python/solution_base.py\", line 360, in process\n",
      "    if data.shape[2] != RGB_CHANNELS:\n",
      "AttributeError: 'NoneType' object has no attribute 'shape'\n"
     ]
    }
   ],
   "source": [
    "import gradio as gr\n",
    "import mediapipe as mp\n",
    "import numpy as np\n",
    "import cv2\n",
    "\n",
    "mp_selfie = mp.solutions.selfie_segmentation\n",
    "\n",
    "def segment(image):\n",
    "    with mp_selfie.SelfieSegmentation(model_selection=0) as model:\n",
    "        res = model.process(image)\n",
    "        mask = np.stack((res.segmentation_mask,)*3, axis=-1) > 0.5\n",
    "        return np.where(mask, image, cv2.blur(image, (40, 40)))\n",
    "#the code above is just a placeholder model I pulled off the internet: this can be replaced with our actual ASL model later\n",
    "\n",
    "\n",
    "webcam = gr.inputs.Image(shape=(640, 480), source=\"webcam\")\n",
    "\n",
    "\n",
    "output_image = gr.outputs.Image(type=\"pil\")\n",
    "\n",
    "with gr.Blocks(theme=gr.themes.Soft()) as demo:\n",
    "    with gr.Tabs() as tabs:\n",
    "        with gr.TabItem(\"Learning Mode\", id=0):\n",
    "            t = gr.Textbox()\n",
    "        with gr.TabItem(\"Game Mode\", id=1):\n",
    "            i = gr.Interface(fn=segment, inputs=webcam, outputs=output_image, live=True)\n",
    "            \n",
    "demo.launch()"
   ]
  },
  {
   "cell_type": "code",
   "execution_count": null,
   "id": "048f5ba7",
   "metadata": {},
   "outputs": [],
   "source": []
  }
 ],
 "metadata": {
  "kernelspec": {
   "display_name": "Python 3 (ipykernel)",
   "language": "python",
   "name": "python3"
  },
  "language_info": {
   "codemirror_mode": {
    "name": "ipython",
    "version": 3
   },
   "file_extension": ".py",
   "mimetype": "text/x-python",
   "name": "python",
   "nbconvert_exporter": "python",
   "pygments_lexer": "ipython3",
   "version": "3.9.10"
  }
 },
 "nbformat": 4,
 "nbformat_minor": 5
}
